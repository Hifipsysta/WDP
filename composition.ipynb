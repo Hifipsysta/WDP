{
 "cells": [
  {
   "cell_type": "code",
   "execution_count": 1,
   "id": "0e94ecbe",
   "metadata": {},
   "outputs": [],
   "source": [
    "import itertools\n",
    "import numpy as np\n",
    "import torch\n",
    "\n",
    "import matplotlib\n",
    "import matplotlib.pyplot as plt\n",
    "%matplotlib inline\n",
    "\n",
    "from bayesian_privacy_accountant import BayesianPrivacyAccountant\n",
    "from wasserstein_privacy_accountant import WassersteinPrivacyAccountant"
   ]
  },
  {
   "cell_type": "code",
   "execution_count": 2,
   "id": "5f947de1",
   "metadata": {},
   "outputs": [],
   "source": [
    "ma_eps = []\n",
    "ba_eps = []\n",
    "wa_eps = []"
   ]
  },
  {
   "cell_type": "code",
   "execution_count": 3,
   "id": "ad6f80d8",
   "metadata": {},
   "outputs": [],
   "source": [
    "quant = 0.99\n",
    "sigma = 0.2\n",
    "plot_range = np.arange(100)"
   ]
  },
  {
   "cell_type": "code",
   "execution_count": 4,
   "id": "0fd4699d",
   "metadata": {},
   "outputs": [],
   "source": [
    "moment_accountant = BayesianPrivacyAccountant(powers=16, total_steps=plot_range[-1]+1, bayesianDP=False)\n",
    "bayes_accountant = BayesianPrivacyAccountant(powers=16, total_steps=plot_range[-1]+1)\n",
    "wasser_accountant = WassersteinPrivacyAccountant(order=16, steps_total=plot_range[-1]+1, beta=1)"
   ]
  },
  {
   "cell_type": "code",
   "execution_count": 5,
   "id": "87e4aa7a",
   "metadata": {
    "scrolled": false
   },
   "outputs": [],
   "source": [
    "for i in plot_range:\n",
    "    grads = np.random.weibull(0.5, [50, 1000])\n",
    "    C = np.quantile(np.linalg.norm(grads, axis=1), quant)\n",
    "    #print(np.linalg.norm(grads, axis=1))\n",
    "    #print(C)\n",
    "    grads /= np.maximum(1, np.linalg.norm(grads, axis=1, keepdims=True) / C)\n",
    "    \n",
    "    moment_accountant.accumulate(\n",
    "        ldistr=(C*2, sigma * C ), \n",
    "        rdistr=(0, sigma * C),\n",
    "        q=1/1000, \n",
    "        steps=1\n",
    "    )\n",
    "    ma_eps += [moment_accountant.get_privacy(target_delta=1e-5)[0]]\n",
    "    \n",
    "    \n",
    "    pairs = list(zip(*itertools.combinations(torch.tensor(grads), 2)))\n",
    "    bayes_accountant.accumulate(\n",
    "        ldistr=(torch.stack(pairs[0]), sigma * C ), \n",
    "        rdistr=(torch.stack(pairs[1]), sigma * C ), \n",
    "        #ldistr=(torch.tensor(grads[:25]), sigma * C ), \n",
    "        #rdistr=(torch.tensor(grads[25:]), sigma * C ), \n",
    "        q=1/1000, \n",
    "        steps=1\n",
    "    ) \n",
    "    ba_eps += [bayes_accountant.get_privacy(target_delta=1e-5)[0]]\n",
    "    \n",
    "    \n",
    "    wasser_accountant.accumulate(\n",
    "        scale_param = sigma * C ,\n",
    "        subsampling_rate = 1/1000,\n",
    "        lgrad = torch.stack(pairs[0]),\n",
    "        rgrad = torch.stack(pairs[1]), \n",
    "    )\n",
    "    wa_eps += [wasser_accountant.get_privacy(target_delta=1e-5)[0]]"
   ]
  },
  {
   "cell_type": "code",
   "execution_count": 6,
   "id": "c0d43d73",
   "metadata": {},
   "outputs": [
    {
     "data": {
      "image/png": "[encoded data removed]",
      "text/plain": [
       "<Figure size 432x288 with 1 Axes>"
      ]
     },
     "metadata": {
      "needs_background": "light"
     },
     "output_type": "display_data"
    }
   ],
   "source": [
    "plt.plot(plot_range, ma_eps, '--', label='DP')\n",
    "plt.plot(plot_range, ba_eps, '--', label='BDP')\n",
    "plt.plot(plot_range, wa_eps, label='WDP')\n",
    "plt.xlabel(r'Step', fontsize=16)\n",
    "plt.ylabel(r'$\\varepsilon$', fontsize=20)\n",
    "plt.xticks(fontsize=14.5)\n",
    "plt.yticks(fontsize=14.5)\n",
    "plt.yscale('log')\n",
    "plt.ylim(top=1e6)\n",
    "plt.legend(fontsize=14.5,loc=2)\n",
    "#plt.title(r'Privacy loss evolution, $C={:.2f}$-quantile, no clipping'.format(quant), fontsize=12)\n",
    "plt.savefig('eps_step_{}q_noclip.pdf'.format(int(quant*100)), format='pdf', bbox_inches='tight')"
   ]
  },
  {
   "cell_type": "code",
   "execution_count": 7,
   "id": "b8a9be49",
   "metadata": {},
   "outputs": [],
   "source": [
    "ma_eps = []\n",
    "ba_eps = []\n",
    "wa_eps = []"
   ]
  },
  {
   "cell_type": "code",
   "execution_count": 8,
   "id": "4eadbb0a",
   "metadata": {},
   "outputs": [],
   "source": [
    "quant = 0.75\n",
    "sigma = 0.2\n",
    "plot_range = np.arange(100)"
   ]
  },
  {
   "cell_type": "code",
   "execution_count": 9,
   "id": "3318e393",
   "metadata": {},
   "outputs": [],
   "source": [
    "moment_accountant = BayesianPrivacyAccountant(powers=16, total_steps=plot_range[-1]+1, bayesianDP=False)\n",
    "bayes_accountant = BayesianPrivacyAccountant(powers=16, total_steps=plot_range[-1]+1)\n",
    "wasser_accountant = WassersteinPrivacyAccountant(order=16, steps_total=plot_range[-1]+1, beta=1)"
   ]
  },
  {
   "cell_type": "code",
   "execution_count": 10,
   "id": "49f32b1f",
   "metadata": {},
   "outputs": [],
   "source": [
    "for i in plot_range:\n",
    "    grads = np.random.weibull(0.5, [50, 1000])\n",
    "    C = np.quantile(np.linalg.norm(grads, axis=1), quant)\n",
    "    #print(np.linalg.norm(grads, axis=1))\n",
    "    #print(C)\n",
    "    grads /= np.maximum(1, np.linalg.norm(grads, axis=1, keepdims=True) / C)\n",
    "    \n",
    "    moment_accountant.accumulate(\n",
    "        ldistr=(C*2, sigma * C ), \n",
    "        rdistr=(0, sigma * C),\n",
    "        q=1/1000, \n",
    "        steps=1\n",
    "    )\n",
    "    ma_eps += [moment_accountant.get_privacy(target_delta=1e-5)[0]]\n",
    "    \n",
    "    \n",
    "    pairs = list(zip(*itertools.combinations(torch.tensor(grads), 2)))\n",
    "    bayes_accountant.accumulate(\n",
    "        ldistr=(torch.stack(pairs[0]), sigma * C ), \n",
    "        rdistr=(torch.stack(pairs[1]), sigma * C ), \n",
    "        #ldistr=(torch.tensor(grads[:25]), sigma * C ), \n",
    "        #rdistr=(torch.tensor(grads[25:]), sigma * C ), \n",
    "        q=1/1000, \n",
    "        steps=1\n",
    "    ) \n",
    "    ba_eps += [bayes_accountant.get_privacy(target_delta=1e-5)[0]]\n",
    "    \n",
    "    \n",
    "    wasser_accountant.accumulate(\n",
    "        scale_param = sigma * C ,\n",
    "        subsampling_rate = 1/1000,\n",
    "        lgrad = torch.stack(pairs[0]),\n",
    "        rgrad = torch.stack(pairs[1]), \n",
    "    )\n",
    "    wa_eps += [wasser_accountant.get_privacy(target_delta=1e-5)[0]]"
   ]
  },
  {
   "cell_type": "code",
   "execution_count": 11,
   "id": "e7177b72",
   "metadata": {},
   "outputs": [
    {
     "data": {
      "image/png": "[encoded data removed]",
      "text/plain": [
       "<Figure size 432x288 with 1 Axes>"
      ]
     },
     "metadata": {
      "needs_background": "light"
     },
     "output_type": "display_data"
    }
   ],
   "source": [
    "plt.plot(plot_range, ma_eps, '--', label='DP')\n",
    "plt.plot(plot_range, ba_eps, '--', label='BDP')\n",
    "plt.plot(plot_range, wa_eps, label='WDP')\n",
    "plt.xlabel(r'Step', fontsize=16)\n",
    "plt.ylabel(r'$\\varepsilon$', fontsize=20)\n",
    "plt.xticks(fontsize=14.5)\n",
    "plt.yticks(fontsize=14.5)\n",
    "plt.yscale('log')\n",
    "plt.ylim(top=1e6)\n",
    "plt.legend(fontsize=14.5,loc=2)\n",
    "#plt.title(r'Privacy loss evolution, $C={:.2f}$-quantile, no clipping'.format(quant), fontsize=12)\n",
    "plt.savefig('eps_step_{}q_noclip.pdf'.format(int(quant*100)), format='pdf', bbox_inches='tight')"
   ]
  },
  {
   "cell_type": "code",
   "execution_count": 12,
   "id": "972414ef",
   "metadata": {},
   "outputs": [],
   "source": [
    "ma_eps = []\n",
    "ba_eps = []\n",
    "wa_eps = []"
   ]
  },
  {
   "cell_type": "code",
   "execution_count": 13,
   "id": "169ee806",
   "metadata": {},
   "outputs": [],
   "source": [
    "quant = 0.50\n",
    "sigma = 0.2\n",
    "plot_range = np.arange(100)"
   ]
  },
  {
   "cell_type": "code",
   "execution_count": 14,
   "id": "e59a9372",
   "metadata": {},
   "outputs": [],
   "source": [
    "moment_accountant = BayesianPrivacyAccountant(powers=16, total_steps=plot_range[-1]+1, bayesianDP=False)\n",
    "bayes_accountant = BayesianPrivacyAccountant(powers=16, total_steps=plot_range[-1]+1)\n",
    "wasser_accountant = WassersteinPrivacyAccountant(order=16, steps_total=plot_range[-1]+1, beta=1)"
   ]
  },
  {
   "cell_type": "code",
   "execution_count": 15,
   "id": "9a6e4ed8",
   "metadata": {},
   "outputs": [],
   "source": [
    "for i in plot_range:\n",
    "    grads = np.random.weibull(0.5, [50, 1000])\n",
    "    C = np.quantile(np.linalg.norm(grads, axis=1), quant)\n",
    "    #print(np.linalg.norm(grads, axis=1))\n",
    "    #print(C)\n",
    "    grads /= np.maximum(1, np.linalg.norm(grads, axis=1, keepdims=True) / C)\n",
    "    \n",
    "    moment_accountant.accumulate(\n",
    "        ldistr=(C*2, sigma * C ), \n",
    "        rdistr=(0, sigma * C),\n",
    "        q=1/1000, \n",
    "        steps=1\n",
    "    )\n",
    "    ma_eps += [moment_accountant.get_privacy(target_delta=1e-5)[0]]\n",
    "    \n",
    "    \n",
    "    pairs = list(zip(*itertools.combinations(torch.tensor(grads), 2)))\n",
    "    bayes_accountant.accumulate(\n",
    "        ldistr=(torch.stack(pairs[0]), sigma * C ), \n",
    "        rdistr=(torch.stack(pairs[1]), sigma * C ), \n",
    "        #ldistr=(torch.tensor(grads[:25]), sigma * C ), \n",
    "        #rdistr=(torch.tensor(grads[25:]), sigma * C ), \n",
    "        q=1/1000, \n",
    "        steps=1\n",
    "    ) \n",
    "    ba_eps += [bayes_accountant.get_privacy(target_delta=1e-5)[0]]\n",
    "    \n",
    "    \n",
    "    wasser_accountant.accumulate(\n",
    "        scale_param = sigma * C ,\n",
    "        subsampling_rate = 1/1000,\n",
    "        lgrad = torch.stack(pairs[0]),\n",
    "        rgrad = torch.stack(pairs[1]), \n",
    "    )\n",
    "    wa_eps += [wasser_accountant.get_privacy(target_delta=1e-5)[0]]"
   ]
  },
  {
   "cell_type": "code",
   "execution_count": 16,
   "id": "4e544618",
   "metadata": {},
   "outputs": [
    {
     "data": {
      "image/png": "[encoded data removed]",
      "text/plain": [
       "<Figure size 432x288 with 1 Axes>"
      ]
     },
     "metadata": {
      "needs_background": "light"
     },
     "output_type": "display_data"
    }
   ],
   "source": [
    "plt.plot(plot_range, ma_eps, '--', label='DP')\n",
    "plt.plot(plot_range, ba_eps, '--', label='BDP')\n",
    "plt.plot(plot_range, wa_eps, label='WDP')\n",
    "plt.xlabel(r'Step', fontsize=16)\n",
    "plt.ylabel(r'$\\varepsilon$', fontsize=20)\n",
    "plt.xticks(fontsize=14.5)\n",
    "plt.yticks(fontsize=14.5)\n",
    "plt.yscale('log')\n",
    "plt.ylim(top=1e6)\n",
    "plt.legend(fontsize=14.5,loc=2)\n",
    "#plt.title(r'Privacy loss evolution, $C={:.2f}$-quantile, no clipping'.format(quant), fontsize=12)\n",
    "plt.savefig('eps_step_{}q_noclip.pdf'.format(int(quant*100)), format='pdf', bbox_inches='tight')"
   ]
  },
  {
   "cell_type": "code",
   "execution_count": 17,
   "id": "70540a41",
   "metadata": {},
   "outputs": [],
   "source": [
    "ma_eps = []\n",
    "ba_eps = []\n",
    "wa_eps = []"
   ]
  },
  {
   "cell_type": "code",
   "execution_count": 18,
   "id": "ea26948c",
   "metadata": {},
   "outputs": [],
   "source": [
    "quant = 0.05\n",
    "sigma = 0.2\n",
    "plot_range = np.arange(100)"
   ]
  },
  {
   "cell_type": "code",
   "execution_count": 19,
   "id": "07d66b36",
   "metadata": {},
   "outputs": [],
   "source": [
    "moment_accountant = BayesianPrivacyAccountant(powers=16, total_steps=plot_range[-1]+1, bayesianDP=False)\n",
    "bayes_accountant = BayesianPrivacyAccountant(powers=16, total_steps=plot_range[-1]+1)\n",
    "wasser_accountant = WassersteinPrivacyAccountant(order=16, steps_total=plot_range[-1]+1, beta=1)"
   ]
  },
  {
   "cell_type": "code",
   "execution_count": 20,
   "id": "417566f1",
   "metadata": {},
   "outputs": [],
   "source": [
    "for i in plot_range:\n",
    "    grads = np.random.weibull(0.5, [50, 1000])\n",
    "    C = np.quantile(np.linalg.norm(grads, axis=1), quant)\n",
    "    #print(np.linalg.norm(grads, axis=1))\n",
    "    #print(C)\n",
    "    grads /= np.maximum(1, np.linalg.norm(grads, axis=1, keepdims=True) / C)\n",
    "    \n",
    "    moment_accountant.accumulate(\n",
    "        ldistr=(C*2, sigma * C ), \n",
    "        rdistr=(0, sigma * C),\n",
    "        q=1/1000, \n",
    "        steps=1\n",
    "    )\n",
    "    ma_eps += [moment_accountant.get_privacy(target_delta=1e-5)[0]]\n",
    "    \n",
    "    \n",
    "    pairs = list(zip(*itertools.combinations(torch.tensor(grads), 2)))\n",
    "    bayes_accountant.accumulate(\n",
    "        ldistr=(torch.stack(pairs[0]), sigma * C ), \n",
    "        rdistr=(torch.stack(pairs[1]), sigma * C ), \n",
    "        #ldistr=(torch.tensor(grads[:25]), sigma * C ), \n",
    "        #rdistr=(torch.tensor(grads[25:]), sigma * C ), \n",
    "        q=1/1000, \n",
    "        steps=1\n",
    "    ) \n",
    "    ba_eps += [bayes_accountant.get_privacy(target_delta=1e-5)[0]]\n",
    "    \n",
    "    \n",
    "    wasser_accountant.accumulate(\n",
    "        scale_param = sigma * C ,\n",
    "        subsampling_rate = 1/1000,\n",
    "        lgrad = torch.stack(pairs[0]),\n",
    "        rgrad = torch.stack(pairs[1]), \n",
    "    )\n",
    "    wa_eps += [wasser_accountant.get_privacy(target_delta=1e-5)[0]]"
   ]
  },
  {
   "cell_type": "code",
   "execution_count": 21,
   "id": "88c21215",
   "metadata": {},
   "outputs": [
    {
     "data": {
      "image/png": "[encoded data removed]",
      "text/plain": [
       "<Figure size 432x288 with 1 Axes>"
      ]
     },
     "metadata": {
      "needs_background": "light"
     },
     "output_type": "display_data"
    }
   ],
   "source": [
    "plt.plot(plot_range, ma_eps, '--', label='DP')\n",
    "plt.plot(plot_range, ba_eps, '--', label='BDP')\n",
    "plt.plot(plot_range, wa_eps, label='WDP')\n",
    "plt.xlabel(r'Step', fontsize=16)\n",
    "plt.ylabel(r'$\\varepsilon$', fontsize=20)\n",
    "plt.xticks(fontsize=14.5)\n",
    "plt.yticks(fontsize=14.5)\n",
    "plt.yscale('log')\n",
    "plt.ylim(top=1e6)\n",
    "plt.legend(fontsize=14.5,loc=2)\n",
    "#plt.title(r'Privacy loss evolution, $C={:.2f}$-quantile, no clipping'.format(quant), fontsize=12)\n",
    "plt.savefig('eps_step_{}q_noclip.pdf'.format(int(quant*100)), format='pdf', bbox_inches='tight')"
   ]
  },
  {
   "cell_type": "code",
   "execution_count": null,
   "id": "b89e3949",
   "metadata": {},
   "outputs": [],
   "source": []
  },
  {
   "cell_type": "code",
   "execution_count": null,
   "id": "b4e87b4b",
   "metadata": {},
   "outputs": [],
   "source": []
  },
  {
   "cell_type": "code",
   "execution_count": null,
   "id": "c903e76e",
   "metadata": {},
   "outputs": [],
   "source": []
  },
  {
   "cell_type": "code",
   "execution_count": null,
   "id": "8721438e",
   "metadata": {},
   "outputs": [],
   "source": []
  },
  {
   "cell_type": "code",
   "execution_count": null,
   "id": "5bee2a6e",
   "metadata": {},
   "outputs": [],
   "source": []
  },
  {
   "cell_type": "code",
   "execution_count": null,
   "id": "23711dfc",
   "metadata": {},
   "outputs": [],
   "source": []
  },
  {
   "cell_type": "code",
   "execution_count": null,
   "id": "b6a24fb8",
   "metadata": {},
   "outputs": [],
   "source": []
  },
  {
   "cell_type": "code",
   "execution_count": null,
   "id": "fa7ed97c",
   "metadata": {},
   "outputs": [],
   "source": []
  }
 ],
 "metadata": {
  "kernelspec": {
   "display_name": "Python 3 (ipykernel)",
   "language": "python",
   "name": "python3"
  },
  "language_info": {
   "codemirror_mode": {
    "name": "ipython",
    "version": 3
   },
   "file_extension": ".py",
   "mimetype": "text/x-python",
   "name": "python",
   "nbconvert_exporter": "python",
   "pygments_lexer": "ipython3",
   "version": "3.9.13"
  }
 },
 "nbformat": 4,
 "nbformat_minor": 5
}
