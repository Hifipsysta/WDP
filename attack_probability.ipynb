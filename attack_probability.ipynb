{
 "cells": [
  {
   "cell_type": "code",
   "execution_count": 11,
   "id": "c095939b",
   "metadata": {},
   "outputs": [],
   "source": [
    "import numpy as np"
   ]
  },
  {
   "cell_type": "code",
   "execution_count": 12,
   "id": "67a3606e",
   "metadata": {},
   "outputs": [],
   "source": [
    "def potential_attack_success_probability(epsilon):\n",
    "    return 1 / (1 + pow(np.e,-epsilon))"
   ]
  },
  {
   "cell_type": "code",
   "execution_count": 16,
   "id": "adee6c01",
   "metadata": {},
   "outputs": [
    {
     "data": {
      "text/plain": [
       "0.7047456979980911"
      ]
     },
     "execution_count": 16,
     "metadata": {},
     "output_type": "execute_result"
    }
   ],
   "source": [
    "potential_attack_success_probability(0.87)"
   ]
  },
  {
   "cell_type": "code",
   "execution_count": 17,
   "id": "ed775e63",
   "metadata": {},
   "outputs": [
    {
     "data": {
      "text/plain": [
       "0.7130001627522816"
      ]
     },
     "execution_count": 17,
     "metadata": {},
     "output_type": "execute_result"
    }
   ],
   "source": [
    "potential_attack_success_probability(0.91)"
   ]
  },
  {
   "cell_type": "code",
   "execution_count": 18,
   "id": "dcb45e85",
   "metadata": {},
   "outputs": [
    {
     "data": {
      "text/plain": [
       "0.6813537337890256"
      ]
     },
     "execution_count": 18,
     "metadata": {},
     "output_type": "execute_result"
    }
   ],
   "source": [
    "potential_attack_success_probability(0.76)"
   ]
  },
  {
   "cell_type": "code",
   "execution_count": 19,
   "id": "47021822",
   "metadata": {},
   "outputs": [
    {
     "data": {
      "text/plain": [
       "0.6271477663131956"
      ]
     },
     "execution_count": 19,
     "metadata": {},
     "output_type": "execute_result"
    }
   ],
   "source": [
    "potential_attack_success_probability(0.52)"
   ]
  },
  {
   "cell_type": "code",
   "execution_count": 20,
   "id": "9145638d",
   "metadata": {},
   "outputs": [
    {
     "data": {
      "text/plain": [
       "0.598687660112452"
      ]
     },
     "execution_count": 20,
     "metadata": {},
     "output_type": "execute_result"
    }
   ],
   "source": [
    "potential_attack_success_probability(0.40)"
   ]
  },
  {
   "cell_type": "code",
   "execution_count": 21,
   "id": "03b0a2f4",
   "metadata": {},
   "outputs": [
    {
     "data": {
      "text/plain": [
       "0.610639233949222"
      ]
     },
     "execution_count": 21,
     "metadata": {},
     "output_type": "execute_result"
    }
   ],
   "source": [
    "potential_attack_success_probability(0.45)"
   ]
  },
  {
   "cell_type": "code",
   "execution_count": null,
   "id": "6f96c48a",
   "metadata": {},
   "outputs": [],
   "source": []
  }
 ],
 "metadata": {
  "kernelspec": {
   "display_name": "Python 3 (ipykernel)",
   "language": "python",
   "name": "python3"
  },
  "language_info": {
   "codemirror_mode": {
    "name": "ipython",
    "version": 3
   },
   "file_extension": ".py",
   "mimetype": "text/x-python",
   "name": "python",
   "nbconvert_exporter": "python",
   "pygments_lexer": "ipython3",
   "version": "3.9.13"
  }
 },
 "nbformat": 4,
 "nbformat_minor": 5
}
